{
 "cells": [
  {
   "cell_type": "code",
   "execution_count": 18,
   "metadata": {
    "collapsed": false
   },
   "outputs": [],
   "source": [
    "#enable regex code to be used\n",
    "import re\n",
    "#bring in text file\n",
    "source = open('pridech1.rtf')\n",
    "pride = source.read()\n",
    "def find_at(string):\n",
    "    if type(string) != str:\n",
    "        raise TypeError(\"Input is not a string.\")\n",
    "    result = re.findall(r'\\w*at\\b', pride)    \n",
    "    pride_words = []\n",
    "    for i in result:\n",
    "        if len(i) > 3:\n",
    "            pride_words.append(result)\n",
    "    return result"
   ]
  },
  {
   "cell_type": "code",
   "execution_count": 19,
   "metadata": {
    "collapsed": false
   },
   "outputs": [
    {
     "data": {
      "text/plain": [
       "['that',\n",
       " 'that',\n",
       " 'that',\n",
       " 'at',\n",
       " 'that',\n",
       " 'that',\n",
       " 'that',\n",
       " 'that',\n",
       " 'that',\n",
       " '93What',\n",
       " 'What',\n",
       " 'that',\n",
       " 'that',\n",
       " 'that',\n",
       " 'that',\n",
       " 'what',\n",
       " 'that',\n",
       " 'at',\n",
       " 'what',\n",
       " 'that',\n",
       " 'that']"
      ]
     },
     "execution_count": 19,
     "metadata": {},
     "output_type": "execute_result"
    }
   ],
   "source": [
    "find_at(pride)"
   ]
  },
  {
   "cell_type": "code",
   "execution_count": null,
   "metadata": {
    "collapsed": true
   },
   "outputs": [],
   "source": []
  }
 ],
 "metadata": {
  "anaconda-cloud": {},
  "kernelspec": {
   "display_name": "Python [Root]",
   "language": "python",
   "name": "Python [Root]"
  },
  "language_info": {
   "codemirror_mode": {
    "name": "ipython",
    "version": 2
   },
   "file_extension": ".py",
   "mimetype": "text/x-python",
   "name": "python",
   "nbconvert_exporter": "python",
   "pygments_lexer": "ipython2",
   "version": "2.7.12"
  }
 },
 "nbformat": 4,
 "nbformat_minor": 1
}
