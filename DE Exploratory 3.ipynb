{
 "cells": [
  {
   "cell_type": "code",
   "execution_count": 12,
   "metadata": {
    "collapsed": false
   },
   "outputs": [],
   "source": [
    "#enable regex code to be used\n",
    "import re\n",
    "#bring in text file\n",
    "source = open('pridech1.rtf')\n",
    "pride = source.read()\n",
    "def find_at(string):\n",
    "    if type(string) != str:\n",
    "        raise TypeError(\"Input is not a string.\")\n",
    "    for i in range(len(pride)-1):\n",
    "        result = re.findall(r'\\w*at\\b', pride)\n",
    "    print result"
   ]
  },
  {
   "cell_type": "code",
   "execution_count": 13,
   "metadata": {
    "collapsed": false
   },
   "outputs": [
    {
     "name": "stdout",
     "output_type": "stream",
     "text": [
      "['that', 'that', 'that', 'at', 'that', 'that', 'that', 'that', 'that', '93What', 'What', 'that', 'that', 'that', 'that', 'what', 'that', 'at', 'what', 'that', 'that']\n"
     ]
    }
   ],
   "source": [
    "find_at(pride)"
   ]
  },
  {
   "cell_type": "code",
   "execution_count": null,
   "metadata": {
    "collapsed": true
   },
   "outputs": [],
   "source": []
  }
 ],
 "metadata": {
  "anaconda-cloud": {},
  "kernelspec": {
   "display_name": "Python [Root]",
   "language": "python",
   "name": "Python [Root]"
  },
  "language_info": {
   "codemirror_mode": {
    "name": "ipython",
    "version": 2
   },
   "file_extension": ".py",
   "mimetype": "text/x-python",
   "name": "python",
   "nbconvert_exporter": "python",
   "pygments_lexer": "ipython2",
   "version": "2.7.12"
  }
 },
 "nbformat": 4,
 "nbformat_minor": 1
}
